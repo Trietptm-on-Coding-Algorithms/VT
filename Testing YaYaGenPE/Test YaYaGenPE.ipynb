{
 "cells": [
  {
   "cell_type": "code",
   "execution_count": 1,
   "metadata": {},
   "outputs": [],
   "source": [
    "print(\"Test YaYaGenPE\")"
   ]
  },
  {
   "cell_type": "code",
   "execution_count": 2,
   "metadata": {},
   "outputs": [],
   "source": [
    "import pandas as pd\n",
    "import operator\n",
    "import ast\n",
    "import os\n",
    "from shutil import copyfile\n",
    "import shutil"
   ]
  },
  {
   "cell_type": "code",
   "execution_count": 3,
   "metadata": {},
   "outputs": [
    {
     "data": {
      "text/html": [
       "<div>\n",
       "<style scoped>\n",
       "    .dataframe tbody tr th:only-of-type {\n",
       "        vertical-align: middle;\n",
       "    }\n",
       "\n",
       "    .dataframe tbody tr th {\n",
       "        vertical-align: top;\n",
       "    }\n",
       "\n",
       "    .dataframe thead th {\n",
       "        text-align: right;\n",
       "    }\n",
       "</style>\n",
       "<table border=\"1\" class=\"dataframe\">\n",
       "  <thead>\n",
       "    <tr style=\"text-align: right;\">\n",
       "      <th></th>\n",
       "      <th>Exe name</th>\n",
       "      <th>Family</th>\n",
       "      <th>first_seen</th>\n",
       "      <th>last_seen</th>\n",
       "      <th>total</th>\n",
       "      <th>positives</th>\n",
       "      <th>ssdeep</th>\n",
       "      <th>imphash</th>\n",
       "      <th>yara_detected</th>\n",
       "      <th>yara_matching_rules</th>\n",
       "    </tr>\n",
       "  </thead>\n",
       "  <tbody>\n",
       "    <tr>\n",
       "      <th>0</th>\n",
       "      <td>4bf4bc2c3309458670687f7f35a034e87726c0b2b4ce59...</td>\n",
       "      <td>teslacrypt</td>\n",
       "      <td>2016-03-22 05:29:56</td>\n",
       "      <td>2016-07-19 11:25:46</td>\n",
       "      <td>57.0</td>\n",
       "      <td>47.0</td>\n",
       "      <td>6144:bZ6bJnUPNKASkonBh2H5um+WoqhRXysUHPBBSS:bZ...</td>\n",
       "      <td>8f674a2532aeb9bb895ceb2276f96e82</td>\n",
       "      <td>True</td>\n",
       "      <td>['../yara/rules-master/malware/VectraThreatLab...</td>\n",
       "    </tr>\n",
       "    <tr>\n",
       "      <th>1</th>\n",
       "      <td>e92da7e044e089f5793e7458abedc01ab2f9fabdc26c12...</td>\n",
       "      <td>zerber</td>\n",
       "      <td>2017-05-12 05:45:03</td>\n",
       "      <td>2017-09-25 09:45:31</td>\n",
       "      <td>65.0</td>\n",
       "      <td>53.0</td>\n",
       "      <td>6144:Xb726fs3RPPsT5lw1MkUuPW+NsRjscQSj7PrTBFTT...</td>\n",
       "      <td>3de01d3ecac524c6e75df7762c12aff1</td>\n",
       "      <td>True</td>\n",
       "      <td>['../yara/rules-master/malware/VectraThreatLab...</td>\n",
       "    </tr>\n",
       "    <tr>\n",
       "      <th>2</th>\n",
       "      <td>6cd351142fadc8798cec7a4949fed55b14cb2f779082cc...</td>\n",
       "      <td>zerber</td>\n",
       "      <td>2017-05-21 15:07:48</td>\n",
       "      <td>2017-05-21 15:07:48</td>\n",
       "      <td>62.0</td>\n",
       "      <td>51.0</td>\n",
       "      <td>6144:Cw0VTtcjjXjloKH4RXGkMbH653yAehEOvzaKF/8iF...</td>\n",
       "      <td>f9c7630226d1cef8ca9f2a61f77c9e32</td>\n",
       "      <td>True</td>\n",
       "      <td>['../yara/rules-master/malware/VectraThreatLab...</td>\n",
       "    </tr>\n",
       "    <tr>\n",
       "      <th>3</th>\n",
       "      <td>bb37f3f511683bb363e6fe62a2e83fc74b447646e1697d...</td>\n",
       "      <td>razy</td>\n",
       "      <td>2017-02-04 11:03:59</td>\n",
       "      <td>2017-02-04 11:03:59</td>\n",
       "      <td>56.0</td>\n",
       "      <td>31.0</td>\n",
       "      <td>3072:jwsBQaaZH40gr+QdfPNzkV8a7DjHWbGRq58Onla:/...</td>\n",
       "      <td>4e58119b2e3ad35755948eea16c3854f</td>\n",
       "      <td>False</td>\n",
       "      <td>[]</td>\n",
       "    </tr>\n",
       "    <tr>\n",
       "      <th>4</th>\n",
       "      <td>c64b6a13b20a3f9c6f8dcf2af17d974eb104b2ff98eec3...</td>\n",
       "      <td>teslacrypt</td>\n",
       "      <td>2016-03-18 07:40:14</td>\n",
       "      <td>2016-03-24 12:37:34</td>\n",
       "      <td>57.0</td>\n",
       "      <td>48.0</td>\n",
       "      <td>6144:ia6t9pGTFyeiubGw74fyIMrm2GAtJtgMOJcFyw+Yf...</td>\n",
       "      <td>b0549bcf98dfeef5fe0d7037087e1e35</td>\n",
       "      <td>True</td>\n",
       "      <td>['../yara/rules-master/malware/VectraThreatLab...</td>\n",
       "    </tr>\n",
       "  </tbody>\n",
       "</table>\n",
       "</div>"
      ],
      "text/plain": [
       "                                            Exe name      Family  \\\n",
       "0  4bf4bc2c3309458670687f7f35a034e87726c0b2b4ce59...  teslacrypt   \n",
       "1  e92da7e044e089f5793e7458abedc01ab2f9fabdc26c12...      zerber   \n",
       "2  6cd351142fadc8798cec7a4949fed55b14cb2f779082cc...      zerber   \n",
       "3  bb37f3f511683bb363e6fe62a2e83fc74b447646e1697d...        razy   \n",
       "4  c64b6a13b20a3f9c6f8dcf2af17d974eb104b2ff98eec3...  teslacrypt   \n",
       "\n",
       "            first_seen            last_seen  total  positives  \\\n",
       "0  2016-03-22 05:29:56  2016-07-19 11:25:46   57.0       47.0   \n",
       "1  2017-05-12 05:45:03  2017-09-25 09:45:31   65.0       53.0   \n",
       "2  2017-05-21 15:07:48  2017-05-21 15:07:48   62.0       51.0   \n",
       "3  2017-02-04 11:03:59  2017-02-04 11:03:59   56.0       31.0   \n",
       "4  2016-03-18 07:40:14  2016-03-24 12:37:34   57.0       48.0   \n",
       "\n",
       "                                              ssdeep  \\\n",
       "0  6144:bZ6bJnUPNKASkonBh2H5um+WoqhRXysUHPBBSS:bZ...   \n",
       "1  6144:Xb726fs3RPPsT5lw1MkUuPW+NsRjscQSj7PrTBFTT...   \n",
       "2  6144:Cw0VTtcjjXjloKH4RXGkMbH653yAehEOvzaKF/8iF...   \n",
       "3  3072:jwsBQaaZH40gr+QdfPNzkV8a7DjHWbGRq58Onla:/...   \n",
       "4  6144:ia6t9pGTFyeiubGw74fyIMrm2GAtJtgMOJcFyw+Yf...   \n",
       "\n",
       "                            imphash  yara_detected  \\\n",
       "0  8f674a2532aeb9bb895ceb2276f96e82           True   \n",
       "1  3de01d3ecac524c6e75df7762c12aff1           True   \n",
       "2  f9c7630226d1cef8ca9f2a61f77c9e32           True   \n",
       "3  4e58119b2e3ad35755948eea16c3854f          False   \n",
       "4  b0549bcf98dfeef5fe0d7037087e1e35           True   \n",
       "\n",
       "                                 yara_matching_rules  \n",
       "0  ['../yara/rules-master/malware/VectraThreatLab...  \n",
       "1  ['../yara/rules-master/malware/VectraThreatLab...  \n",
       "2  ['../yara/rules-master/malware/VectraThreatLab...  \n",
       "3                                                 []  \n",
       "4  ['../yara/rules-master/malware/VectraThreatLab...  "
      ]
     },
     "execution_count": 3,
     "metadata": {},
     "output_type": "execute_result"
    }
   ],
   "source": [
    "df = pd.read_csv(\"rules_fixed.csv\", index_col=0)\n",
    "df.head()"
   ]
  },
  {
   "cell_type": "code",
   "execution_count": 4,
   "metadata": {},
   "outputs": [],
   "source": [
    "df_tesla = df[df['Family'] == 'teslacrypt']"
   ]
  },
  {
   "cell_type": "code",
   "execution_count": 5,
   "metadata": {},
   "outputs": [],
   "source": [
    "# # Create a dict to count the rule match frequency\n",
    "# ruleset = dict()\n",
    "# for v in df_tesla.yara_matching_rules.values:\n",
    "#     v = ast.literal_eval(v)\n",
    "#     for r in v:\n",
    "#         if r in ruleset:\n",
    "#             ruleset[r] += 1\n",
    "#         else:\n",
    "#             ruleset[r] = 1\n",
    "\n",
    "# # Sort the results\n",
    "# ruleset_sorted = sorted(ruleset.items(), key=operator.itemgetter(1))\n",
    "# for k in ruleset_sorted:\n",
    "#     print(k[1], k[0])"
   ]
  },
  {
   "cell_type": "code",
   "execution_count": 6,
   "metadata": {},
   "outputs": [
    {
     "name": "stdout",
     "output_type": "stream",
     "text": [
      "484\n"
     ]
    }
   ],
   "source": [
    "# Prendi solo i sample che matchano questa regola\n",
    "rr = '../yara/rules-master/malware/Icewater/Icewater-master/n3ed/n3ed.291771a8c2000b32.yara:n3ed_291771a8c2000b32'\n",
    "\n",
    "sha256s = list()\n",
    "for c, v in enumerate(df_tesla.yara_matching_rules.values):\n",
    "    if rr in v:\n",
    "        sha256s.append(df_tesla.iloc[c]['Exe name'])\n",
    "print(len(sha256s))\n",
    "\n",
    "## Altrimenti prendi tutti\n",
    "# sha256s = list(df_tesla['Exe name'].values)"
   ]
  },
  {
   "cell_type": "code",
   "execution_count": 7,
   "metadata": {},
   "outputs": [
    {
     "name": "stdout",
     "output_type": "stream",
     "text": [
      "Num of splits: 20\n",
      "Len train index set: 25\n",
      "Let test index set: 459\n",
      "Len train set: 25\n",
      "Let test set: 459\n",
      "['71b0a027a737fc78be23cb18bb9c10cf3cb5cc2b340e7572eef2ede2a0e4a4e9', 'e18cef6f57f576d366000092cce3355b34f56e891cea619f885f75af48d4f5be', '1eddbdf94fca23356d5853551cd6ab3dcffae6f57fe83b164646ed6584fb4eee', '2924b79af4bdbefdfbdcbcb2df65a0fa7c686edd76fc414afa0fb63b44218762', 'cc8cb9d9c7ea691e14572490ff5c258c5ce9267d5748883e64f951cae3af5d8c', 'b0b523ce0cc39125f7209aa8b27ae1a83b7dc769fc09ddbf6b721b3f005f479e', 'f1982bf38a0f43eb3273ec5ec2852bcb082e8eed543c555eb0ff5e239e4ceb73', '86ded8b77b52891bf8680dea86d7ae99edf34357e9d50012cd712f930bc5e452', '301632853bc391b903897cd76b2135fe8b2607d49368a56c982c313580f93040', 'e3e024e68d2d3d499a609d7d3d06ed76ccbb6cff2bf7937f401abea2c743f1d4', '7fc5e17ad9de79a9bbcf20f4a07dec7e0c3823877ec60fd1970b15729ef30a4d', '17c42ee970fec346f2d83aa7b1d156c33a634a1db4dc41badfd33d842f0ff8f0', '6499852e8026ff4e88a8d664994bbb3aec6552078d57b10d600d5e4fdd15314b', '97b28d3fdadffb2d9c957dd3e0f5810be957e0b0fcb1ec762448141acd9f148f', 'e7b00f71d4581b1a20cd2f67057216dfd121c0469d96d641ab00e3b499390e62', 'ac7549ea40d956213afd26e5cbe2cdbd3a09f625df05b268f2c263e765e1058a', '035016c6e19555512b93bab5d5a1c9f544e2f08a8b2079bd91c05b54fc49665b', '3a53eb554e2d3556066fc454c7fc1df77f1e076e59e3337ed94ed6703150960b', 'd9c390fce93e3668f709a5a2795f8f8e7e3313c9e6b889ec78c36c6af4523422', '478c87f9efb311b80eec019ac1a1075568ce3e222cc9529e8c4f83c6721678c2', 'ea5a3dc981af6959c655887fba89681e364c15e4ed5853916d3cbd41b515b5b5', '4eca67c3bdaa73e355963a46323843efb99fcf265aec3842c47747b864cf74db', '49a63c4c4b6e0ac5789de433e2a510347aee0ec33eac0c19852f031785df5574', 'eb1ed60e0664dbc9775e3d898d3dadc428f56eb856c72b65a0e33e288e35a949', 'def73d87e78b370ef9a88ff83d37d8887db31b1ad08ebd4c36731211b9a035df']\n"
     ]
    }
   ],
   "source": [
    "from sklearn.model_selection import KFold\n",
    "kf = KFold(n_splits=20, shuffle=True)\n",
    "print(\"Num of splits: %d\" % kf.get_n_splits(sha256s))\n",
    "splits = list(kf.split(sha256s))\n",
    "\n",
    "# Be aware that train and test are inverted in respect to the ML terminology. Here few samples are enough to create a rule\n",
    "train_indexes = splits[0][1]\n",
    "test_indexes = splits[0][0] \n",
    "print(\"Len train index set: %d\" % len(train_indexes))\n",
    "print(\"Let test index set: %d\" % len(test_indexes))\n",
    "\n",
    "train = [sha256s[i] for i in train_indexes]\n",
    "test = [sha256s[i] for i in test_indexes]\n",
    "print(\"Len train set: %d\" % len(train))\n",
    "print(\"Let test set: %d\" % len(test))\n",
    "# print(train)\n",
    "print(train)"
   ]
  },
  {
   "cell_type": "code",
   "execution_count": 8,
   "metadata": {},
   "outputs": [
    {
     "name": "stdout",
     "output_type": "stream",
     "text": [
      "Copying training dataset\n",
      "Copying test dataset\n"
     ]
    }
   ],
   "source": [
    "print(\"Copying training dataset\")\n",
    "\n",
    "if os.path.isdir(\"tesla_train\"):\n",
    "    shutil.rmtree('tesla_train/')\n",
    "os.mkdir(\"tesla_train\")\n",
    "\n",
    "for sha in train:\n",
    "    copyfile(\"Win32_EXE/%s\" % sha, \"tesla_train/%s\" % sha)\n",
    "\n",
    "\n",
    "print(\"Copying test dataset\")\n",
    "\n",
    "if os.path.isdir(\"tesla_test\"):\n",
    "    shutil.rmtree('tesla_test/')\n",
    "os.mkdir(\"tesla_test\")\n",
    "\n",
    "for sha in test:\n",
    "    copyfile(\"Win32_EXE/%s\" % sha, \"tesla_test/%s\" % sha)"
   ]
  },
  {
   "cell_type": "code",
   "execution_count": 9,
   "metadata": {},
   "outputs": [
    {
     "name": "stdout",
     "output_type": "stream",
     "text": [
      "\n",
      "__  __   __  __     _____         ___  ____ \n",
      "\\ \\/ /__ \\ \\/ /__ _/ ___/__ ___  / _ \\/ __/  YaYaGenPE -- Yet Another Yara Rule Generator for PE files\n",
      " \\  / _ `/\\  / _ `/ (_ / -_) _ \\/ ___/ _/    (!) v0.1_spring18\n",
      " /_/\\_,_/ /_/\\_,_/\\___/\\__/_//_/_/  /___/    by Andrea Marcelli & Giovanni Squillero & Luca Cetro\n",
      "\n",
      "\u001b[32m12:05:50\u001b[0m \u001b[1;30mWARNING::\u001b[0m \u001b[33mLet's start!\u001b[0m\n",
      " \n",
      "\u001b[32m12:05:50\u001b[0m \u001b[1;30mINFO::\u001b[0m Processing: /Users/jimmy/Desktop/tesla_train/f1982bf38a0f43eb3273ec5ec2852bcb082e8eed543c555eb0ff5e239e4ceb73\n",
      "\u001b[32m12:05:51\u001b[0m \u001b[1;30mWARNING::\u001b[0m \u001b[33mSkipping EXPORT DIRECTORY\u001b[0m\n",
      " \n",
      "\u001b[32m12:05:51\u001b[0m \u001b[1;30mINFO::\u001b[0m Processing: /Users/jimmy/Desktop/tesla_train/478c87f9efb311b80eec019ac1a1075568ce3e222cc9529e8c4f83c6721678c2\n",
      " \n",
      "\u001b[32m12:05:51\u001b[0m \u001b[1;30mINFO::\u001b[0m Processing: /Users/jimmy/Desktop/tesla_train/def73d87e78b370ef9a88ff83d37d8887db31b1ad08ebd4c36731211b9a035df\n",
      " \n",
      "\u001b[32m12:05:51\u001b[0m \u001b[1;30mINFO::\u001b[0m Processing: /Users/jimmy/Desktop/tesla_train/49a63c4c4b6e0ac5789de433e2a510347aee0ec33eac0c19852f031785df5574\n",
      " \n",
      "\u001b[32m12:05:51\u001b[0m \u001b[1;30mINFO::\u001b[0m Processing: /Users/jimmy/Desktop/tesla_train/eb1ed60e0664dbc9775e3d898d3dadc428f56eb856c72b65a0e33e288e35a949\n",
      "\u001b[32m12:05:51\u001b[0m \u001b[1;30mWARNING::\u001b[0m \u001b[33mSkipping EXPORT DIRECTORY\u001b[0m\n",
      " \n",
      "\u001b[32m12:05:51\u001b[0m \u001b[1;30mINFO::\u001b[0m Processing: /Users/jimmy/Desktop/tesla_train/2924b79af4bdbefdfbdcbcb2df65a0fa7c686edd76fc414afa0fb63b44218762\n",
      " \n",
      "\u001b[32m12:05:51\u001b[0m \u001b[1;30mINFO::\u001b[0m Processing: /Users/jimmy/Desktop/tesla_train/e7b00f71d4581b1a20cd2f67057216dfd121c0469d96d641ab00e3b499390e62\n",
      " \n",
      "\u001b[32m12:05:51\u001b[0m \u001b[1;30mINFO::\u001b[0m Processing: /Users/jimmy/Desktop/tesla_train/3a53eb554e2d3556066fc454c7fc1df77f1e076e59e3337ed94ed6703150960b\n",
      "\u001b[32m12:05:51\u001b[0m \u001b[1;30mWARNING::\u001b[0m \u001b[33mSkipping EXPORT DIRECTORY\u001b[0m\n",
      " \n",
      "\u001b[32m12:05:51\u001b[0m \u001b[1;30mINFO::\u001b[0m Processing: /Users/jimmy/Desktop/tesla_train/ac7549ea40d956213afd26e5cbe2cdbd3a09f625df05b268f2c263e765e1058a\n",
      " \n",
      "\u001b[32m12:05:51\u001b[0m \u001b[1;30mINFO::\u001b[0m Processing: /Users/jimmy/Desktop/tesla_train/301632853bc391b903897cd76b2135fe8b2607d49368a56c982c313580f93040\n",
      " \n",
      "\u001b[32m12:05:51\u001b[0m \u001b[1;30mINFO::\u001b[0m Processing: /Users/jimmy/Desktop/tesla_train/4eca67c3bdaa73e355963a46323843efb99fcf265aec3842c47747b864cf74db\n",
      "\u001b[32m12:05:51\u001b[0m \u001b[1;30mWARNING::\u001b[0m \u001b[33mSkipping EXPORT DIRECTORY\u001b[0m\n",
      " \n",
      "\u001b[32m12:05:51\u001b[0m \u001b[1;30mINFO::\u001b[0m Processing: /Users/jimmy/Desktop/tesla_train/d9c390fce93e3668f709a5a2795f8f8e7e3313c9e6b889ec78c36c6af4523422\n",
      "\u001b[32m12:05:51\u001b[0m \u001b[1;30mWARNING::\u001b[0m \u001b[33mSkipping EXPORT DIRECTORY\u001b[0m\n",
      " \n",
      "\u001b[32m12:05:51\u001b[0m \u001b[1;30mINFO::\u001b[0m Processing: /Users/jimmy/Desktop/tesla_train/97b28d3fdadffb2d9c957dd3e0f5810be957e0b0fcb1ec762448141acd9f148f\n",
      "\u001b[32m12:05:51\u001b[0m \u001b[1;30mWARNING::\u001b[0m \u001b[33mSkipping EXPORT DIRECTORY\u001b[0m\n",
      " \n",
      "\u001b[32m12:05:51\u001b[0m \u001b[1;30mINFO::\u001b[0m Processing: /Users/jimmy/Desktop/tesla_train/6499852e8026ff4e88a8d664994bbb3aec6552078d57b10d600d5e4fdd15314b\n",
      " \n",
      "\u001b[32m12:05:51\u001b[0m \u001b[1;30mINFO::\u001b[0m Processing: /Users/jimmy/Desktop/tesla_train/035016c6e19555512b93bab5d5a1c9f544e2f08a8b2079bd91c05b54fc49665b\n",
      "\u001b[32m12:05:52\u001b[0m \u001b[1;30mWARNING::\u001b[0m \u001b[33mSkipping EXPORT DIRECTORY\u001b[0m\n",
      " \n",
      "\u001b[32m12:05:52\u001b[0m \u001b[1;30mINFO::\u001b[0m Processing: /Users/jimmy/Desktop/tesla_train/e3e024e68d2d3d499a609d7d3d06ed76ccbb6cff2bf7937f401abea2c743f1d4\n",
      " \n",
      "\u001b[32m12:05:52\u001b[0m \u001b[1;30mINFO::\u001b[0m Processing: /Users/jimmy/Desktop/tesla_train/17c42ee970fec346f2d83aa7b1d156c33a634a1db4dc41badfd33d842f0ff8f0\n",
      " \n",
      "\u001b[32m12:05:52\u001b[0m \u001b[1;30mINFO::\u001b[0m Processing: /Users/jimmy/Desktop/tesla_train/e18cef6f57f576d366000092cce3355b34f56e891cea619f885f75af48d4f5be\n",
      " \n",
      "\u001b[32m12:05:52\u001b[0m \u001b[1;30mINFO::\u001b[0m Processing: /Users/jimmy/Desktop/tesla_train/cc8cb9d9c7ea691e14572490ff5c258c5ce9267d5748883e64f951cae3af5d8c\n",
      "\u001b[32m12:05:52\u001b[0m \u001b[1;30mWARNING::\u001b[0m \u001b[33mSkipping EXPORT DIRECTORY\u001b[0m\n",
      " \n",
      "\u001b[32m12:05:52\u001b[0m \u001b[1;30mINFO::\u001b[0m Processing: /Users/jimmy/Desktop/tesla_train/ea5a3dc981af6959c655887fba89681e364c15e4ed5853916d3cbd41b515b5b5\n",
      "\u001b[32m12:05:52\u001b[0m \u001b[1;30mWARNING::\u001b[0m \u001b[33mSkipping EXPORT DIRECTORY\u001b[0m\n",
      " \n",
      "\u001b[32m12:05:52\u001b[0m \u001b[1;30mINFO::\u001b[0m Processing: /Users/jimmy/Desktop/tesla_train/1eddbdf94fca23356d5853551cd6ab3dcffae6f57fe83b164646ed6584fb4eee\n",
      "\u001b[32m12:05:52\u001b[0m \u001b[1;30mWARNING::\u001b[0m \u001b[33mSkipping EXPORT DIRECTORY\u001b[0m\n",
      " \n",
      "\u001b[32m12:05:52\u001b[0m \u001b[1;30mINFO::\u001b[0m Processing: /Users/jimmy/Desktop/tesla_train/7fc5e17ad9de79a9bbcf20f4a07dec7e0c3823877ec60fd1970b15729ef30a4d\n",
      " \n",
      "\u001b[32m12:05:52\u001b[0m \u001b[1;30mINFO::\u001b[0m Processing: /Users/jimmy/Desktop/tesla_train/71b0a027a737fc78be23cb18bb9c10cf3cb5cc2b340e7572eef2ede2a0e4a4e9\n",
      " \n",
      "\u001b[32m12:05:52\u001b[0m \u001b[1;30mINFO::\u001b[0m Processing: /Users/jimmy/Desktop/tesla_train/b0b523ce0cc39125f7209aa8b27ae1a83b7dc769fc09ddbf6b721b3f005f479e\n",
      " \n",
      "\u001b[32m12:05:52\u001b[0m \u001b[1;30mINFO::\u001b[0m Processing: /Users/jimmy/Desktop/tesla_train/86ded8b77b52891bf8680dea86d7ae99edf34357e9d50012cd712f930bc5e452\n",
      "\u001b[32m12:05:52\u001b[0m \u001b[1;30mINFO::\u001b[0m Analyzing 25 PE files\n",
      "\u001b[32m12:05:52\u001b[0m \u001b[1;30mINFO::\u001b[0m Greedy run\n",
      "\u001b[32m12:05:55\u001b[0m \u001b[1;30mINFO::\u001b[0m Generated 1 rules\n",
      "\u001b[32m12:05:55\u001b[0m \u001b[1;30mINFO::\u001b[0m RULE statistics:\n",
      "\u001b[32m12:05:55\u001b[0m \u001b[1;30mINFO::\u001b[0m ** Number of literals: 77\n",
      "\u001b[32m12:05:55\u001b[0m \u001b[1;30mINFO::\u001b[0m ** Weight: 188.00\n",
      "\u001b[32m12:05:55\u001b[0m \u001b[1;30mINFO::\u001b[0m ** Coverage: 25/25\n",
      "\u001b[32m12:05:55\u001b[0m \u001b[1;30mINFO::\u001b[0m ** Detections = 100.00\n",
      "\u001b[32m12:05:55\u001b[0m \u001b[1;30mINFO::\u001b[0m YARA rules matched /Users/jimmy/Desktop/tesla_train/f1982bf38a0f43eb3273ec5ec2852bcb082e8eed543c555eb0ff5e239e4ceb73\n",
      "\u001b[32m12:05:55\u001b[0m \u001b[1;30mINFO::\u001b[0m YARA rules matched /Users/jimmy/Desktop/tesla_train/478c87f9efb311b80eec019ac1a1075568ce3e222cc9529e8c4f83c6721678c2\n",
      "\u001b[32m12:05:55\u001b[0m \u001b[1;30mINFO::\u001b[0m YARA rules matched /Users/jimmy/Desktop/tesla_train/def73d87e78b370ef9a88ff83d37d8887db31b1ad08ebd4c36731211b9a035df\n",
      "\u001b[32m12:05:55\u001b[0m \u001b[1;30mINFO::\u001b[0m YARA rules matched /Users/jimmy/Desktop/tesla_train/49a63c4c4b6e0ac5789de433e2a510347aee0ec33eac0c19852f031785df5574\n",
      "\u001b[32m12:05:55\u001b[0m \u001b[1;30mINFO::\u001b[0m YARA rules matched /Users/jimmy/Desktop/tesla_train/eb1ed60e0664dbc9775e3d898d3dadc428f56eb856c72b65a0e33e288e35a949\n",
      "\u001b[32m12:05:55\u001b[0m \u001b[1;30mINFO::\u001b[0m YARA rules matched /Users/jimmy/Desktop/tesla_train/2924b79af4bdbefdfbdcbcb2df65a0fa7c686edd76fc414afa0fb63b44218762\n",
      "\u001b[32m12:05:55\u001b[0m \u001b[1;30mINFO::\u001b[0m YARA rules matched /Users/jimmy/Desktop/tesla_train/e7b00f71d4581b1a20cd2f67057216dfd121c0469d96d641ab00e3b499390e62\n",
      "\u001b[32m12:05:55\u001b[0m \u001b[1;30mINFO::\u001b[0m YARA rules matched /Users/jimmy/Desktop/tesla_train/3a53eb554e2d3556066fc454c7fc1df77f1e076e59e3337ed94ed6703150960b\n",
      "\u001b[32m12:05:55\u001b[0m \u001b[1;30mINFO::\u001b[0m YARA rules matched /Users/jimmy/Desktop/tesla_train/ac7549ea40d956213afd26e5cbe2cdbd3a09f625df05b268f2c263e765e1058a\n",
      "\u001b[32m12:05:55\u001b[0m \u001b[1;30mINFO::\u001b[0m YARA rules matched /Users/jimmy/Desktop/tesla_train/301632853bc391b903897cd76b2135fe8b2607d49368a56c982c313580f93040\n",
      "\u001b[32m12:05:55\u001b[0m \u001b[1;30mINFO::\u001b[0m YARA rules matched /Users/jimmy/Desktop/tesla_train/4eca67c3bdaa73e355963a46323843efb99fcf265aec3842c47747b864cf74db\n",
      "\u001b[32m12:05:55\u001b[0m \u001b[1;30mINFO::\u001b[0m YARA rules matched /Users/jimmy/Desktop/tesla_train/d9c390fce93e3668f709a5a2795f8f8e7e3313c9e6b889ec78c36c6af4523422\n",
      "\u001b[32m12:05:55\u001b[0m \u001b[1;30mINFO::\u001b[0m YARA rules matched /Users/jimmy/Desktop/tesla_train/97b28d3fdadffb2d9c957dd3e0f5810be957e0b0fcb1ec762448141acd9f148f\n",
      "\u001b[32m12:05:55\u001b[0m \u001b[1;30mINFO::\u001b[0m YARA rules matched /Users/jimmy/Desktop/tesla_train/6499852e8026ff4e88a8d664994bbb3aec6552078d57b10d600d5e4fdd15314b\n",
      "\u001b[32m12:05:55\u001b[0m \u001b[1;30mINFO::\u001b[0m YARA rules matched /Users/jimmy/Desktop/tesla_train/035016c6e19555512b93bab5d5a1c9f544e2f08a8b2079bd91c05b54fc49665b\n",
      "\u001b[32m12:05:55\u001b[0m \u001b[1;30mINFO::\u001b[0m YARA rules matched /Users/jimmy/Desktop/tesla_train/e3e024e68d2d3d499a609d7d3d06ed76ccbb6cff2bf7937f401abea2c743f1d4\n",
      "\u001b[32m12:05:55\u001b[0m \u001b[1;30mINFO::\u001b[0m YARA rules matched /Users/jimmy/Desktop/tesla_train/17c42ee970fec346f2d83aa7b1d156c33a634a1db4dc41badfd33d842f0ff8f0\n",
      "\u001b[32m12:05:55\u001b[0m \u001b[1;30mINFO::\u001b[0m YARA rules matched /Users/jimmy/Desktop/tesla_train/e18cef6f57f576d366000092cce3355b34f56e891cea619f885f75af48d4f5be\n",
      "\u001b[32m12:05:55\u001b[0m \u001b[1;30mINFO::\u001b[0m YARA rules matched /Users/jimmy/Desktop/tesla_train/cc8cb9d9c7ea691e14572490ff5c258c5ce9267d5748883e64f951cae3af5d8c\n",
      "\u001b[32m12:05:55\u001b[0m \u001b[1;30mINFO::\u001b[0m YARA rules matched /Users/jimmy/Desktop/tesla_train/ea5a3dc981af6959c655887fba89681e364c15e4ed5853916d3cbd41b515b5b5\n",
      "\u001b[32m12:05:55\u001b[0m \u001b[1;30mINFO::\u001b[0m YARA rules matched /Users/jimmy/Desktop/tesla_train/1eddbdf94fca23356d5853551cd6ab3dcffae6f57fe83b164646ed6584fb4eee\n",
      "\u001b[32m12:05:55\u001b[0m \u001b[1;30mINFO::\u001b[0m YARA rules matched /Users/jimmy/Desktop/tesla_train/7fc5e17ad9de79a9bbcf20f4a07dec7e0c3823877ec60fd1970b15729ef30a4d\n",
      "\u001b[32m12:05:55\u001b[0m \u001b[1;30mINFO::\u001b[0m YARA rules matched /Users/jimmy/Desktop/tesla_train/71b0a027a737fc78be23cb18bb9c10cf3cb5cc2b340e7572eef2ede2a0e4a4e9\n",
      "\u001b[32m12:05:55\u001b[0m \u001b[1;30mINFO::\u001b[0m YARA rules matched /Users/jimmy/Desktop/tesla_train/b0b523ce0cc39125f7209aa8b27ae1a83b7dc769fc09ddbf6b721b3f005f479e\n",
      "\u001b[32m12:05:55\u001b[0m \u001b[1;30mINFO::\u001b[0m YARA rules matched /Users/jimmy/Desktop/tesla_train/86ded8b77b52891bf8680dea86d7ae99edf34357e9d50012cd712f930bc5e452\n",
      "\u001b[32m12:05:55\u001b[0m \u001b[1;30mINFO::\u001b[0m Created outputdir output_tesla/\n",
      "\u001b[32m12:05:55\u001b[0m \u001b[1;30mINFO::\u001b[0m Rule(s) saved in output_tesla/ folder\n",
      "\u001b[32m12:05:55\u001b[0m \u001b[1;30mWARNING::\u001b[0m \u001b[33mThat's all folks\u001b[0m\n"
     ]
    }
   ],
   "source": [
    "if os.path.isdir(\"/Users/jimmy/Documents/_Research/_Tesi/Luca Cetro/github/YaYaGenPE/output_tesla\"):\n",
    "    shutil.rmtree(\"/Users/jimmy/Documents/_Research/_Tesi/Luca Cetro/github/YaYaGenPE/output_tesla\")\n",
    "\n",
    "! cd \"/Users/jimmy/Documents/_Research/_Tesi/Luca Cetro/github/YaYaGenPE\"; ./yyg.py -ndb -a greedy -c _config/configuration.json -dir /Users/jimmy/Desktop/tesla_train/ -o output_tesla/"
   ]
  },
  {
   "cell_type": "code",
   "execution_count": 10,
   "metadata": {},
   "outputs": [
    {
     "name": "stdout",
     "output_type": "stream",
     "text": [
      "\u001b[32m12:05:56\u001b[0m \u001b[1;30mWARNING::\u001b[0m \u001b[33mLet's start!\u001b[0m\n",
      "\u001b[32m12:05:56\u001b[0m \u001b[1;30mINFO::\u001b[0m Compiling YARA ruleset...\n",
      "\u001b[32m12:05:56\u001b[0m \u001b[1;30mINFO::\u001b[0m Loading yara_ruleset...\n",
      "\u001b[32m12:05:56\u001b[0m \u001b[1;30mINFO::\u001b[0m Initial ruleset compilation...\n",
      "\u001b[32m12:05:56\u001b[0m \u001b[1;30mINFO::\u001b[0m Compiled 1/1 rules\n",
      "\u001b[32m12:05:56\u001b[0m \u001b[1;30mINFO::\u001b[0m Final ruleset compilation...\n",
      "\u001b[32m12:05:56\u001b[0m \u001b[1;30mINFO::\u001b[0m Ruleset compilation completed\n",
      "\u001b[32m12:05:56\u001b[0m \u001b[1;30mINFO::\u001b[0m Loading sha256 list...\n",
      "\u001b[32m12:05:56\u001b[0m \u001b[1;30mINFO::\u001b[0m Starting 4 consumers\n",
      "\u001b[32m12:05:56\u001b[0m \u001b[1;30mINFO::\u001b[0m Started checking...\n",
      "\u001b[32m12:05:59\u001b[0m \u001b[1;30mINFO::\u001b[0m Waiting for consumers to join\n",
      "\u001b[32m12:05:59\u001b[0m \u001b[1;30mINFO::\u001b[0m Collecting results from consumers\n",
      "\u001b[32m12:05:59\u001b[0m \u001b[1;30mINFO::\u001b[0m PE files checked: 459\n",
      "\u001b[32m12:05:59\u001b[0m \u001b[1;30mINFO::\u001b[0m PE files skipped: 0\n",
      "\u001b[32m12:05:59\u001b[0m \u001b[1;30mINFO::\u001b[0m Len TP list: 0\n",
      "\u001b[32m12:05:59\u001b[0m \u001b[1;30mINFO::\u001b[0m TP list matches: 0\n",
      "\u001b[32m12:05:59\u001b[0m \u001b[1;30mINFO::\u001b[0m Checking 459 pefiles took 3.48 seconds\n",
      "\u001b[32m12:05:59\u001b[0m \u001b[1;30mWARNING::\u001b[0m \u001b[33mThat's all folks\u001b[0m\n"
     ]
    }
   ],
   "source": [
    "if os.path.isdir(\"/Users/jimmy/Documents/_Research/_Tesi/Luca Cetro/github/YaYaGenPE/output_tesla_check\"):\n",
    "    shutil.rmtree(\"/Users/jimmy/Documents/_Research/_Tesi/Luca Cetro/github/YaYaGenPE/output_tesla_check\")\n",
    "os.mkdir(\"/Users/jimmy/Documents/_Research/_Tesi/Luca Cetro/github/YaYaGenPE/output_tesla_check\")\n",
    "\n",
    "! cd \"/Users/jimmy/Documents/_Research/_Tesi/Luca Cetro/github/YaYaGenPE\"; ./check_yara.py -nc 4 -i empty_file -r /Users/jimmy/Desktop/tesla_test/ -o output_tesla_check/ output_tesla/*.yar"
   ]
  },
  {
   "cell_type": "code",
   "execution_count": 11,
   "metadata": {},
   "outputs": [],
   "source": [
    "df_result = pd.read_csv(\"/Users/jimmy/Documents/_Research/_Tesi/Luca Cetro/github/YaYaGenPE/output_tesla_check/sha256_pandas.csv\", index_col=0)"
   ]
  },
  {
   "cell_type": "code",
   "execution_count": 12,
   "metadata": {},
   "outputs": [
    {
     "name": "stdout",
     "output_type": "stream",
     "text": [
      "Total samples: 459\n",
      "Total matches: 413\n"
     ]
    }
   ],
   "source": [
    "df_result.head()\n",
    "df_result.values\n",
    "c = 0\n",
    "for x in df_result.values:\n",
    "    if sum(x) > 0:\n",
    "        c += 1\n",
    "print(\"Total samples: %d\" % len(df_result.values))\n",
    "print(\"Total matches: %d\" % c)"
   ]
  },
  {
   "cell_type": "code",
   "execution_count": 13,
   "metadata": {},
   "outputs": [
    {
     "data": {
      "text/html": [
       "<div>\n",
       "<style scoped>\n",
       "    .dataframe tbody tr th:only-of-type {\n",
       "        vertical-align: middle;\n",
       "    }\n",
       "\n",
       "    .dataframe tbody tr th {\n",
       "        vertical-align: top;\n",
       "    }\n",
       "\n",
       "    .dataframe thead th {\n",
       "        text-align: right;\n",
       "    }\n",
       "</style>\n",
       "<table border=\"1\" class=\"dataframe\">\n",
       "  <thead>\n",
       "    <tr style=\"text-align: right;\">\n",
       "      <th></th>\n",
       "      <th>rule_0.yar</th>\n",
       "    </tr>\n",
       "  </thead>\n",
       "  <tbody>\n",
       "    <tr>\n",
       "      <th>a2dc35392fcddcb4a3b422d2b94062557330467d5deeef23c0fda4c62fbcbfb1</th>\n",
       "      <td>1</td>\n",
       "    </tr>\n",
       "    <tr>\n",
       "      <th>572c6bf209c79c478178c6d84e2e630019b4ab33f4838848349e37baf34921f5</th>\n",
       "      <td>1</td>\n",
       "    </tr>\n",
       "    <tr>\n",
       "      <th>44e2eebc0eccc30ca1d7121eacaad4f734e29ab118d49e3628aa75aaf46f0a2e</th>\n",
       "      <td>1</td>\n",
       "    </tr>\n",
       "    <tr>\n",
       "      <th>28fb92db972d25c8e5575e40f5357c7e9736f233432e97ee7e4369bd9a4ef38a</th>\n",
       "      <td>1</td>\n",
       "    </tr>\n",
       "    <tr>\n",
       "      <th>861293295735bf3a518843409fb226968f9d6e20f8b715a2a250e5dba13467a3</th>\n",
       "      <td>1</td>\n",
       "    </tr>\n",
       "  </tbody>\n",
       "</table>\n",
       "</div>"
      ],
      "text/plain": [
       "                                                    rule_0.yar\n",
       "a2dc35392fcddcb4a3b422d2b94062557330467d5deeef2...           1\n",
       "572c6bf209c79c478178c6d84e2e630019b4ab33f483884...           1\n",
       "44e2eebc0eccc30ca1d7121eacaad4f734e29ab118d49e3...           1\n",
       "28fb92db972d25c8e5575e40f5357c7e9736f233432e97e...           1\n",
       "861293295735bf3a518843409fb226968f9d6e20f8b715a...           1"
      ]
     },
     "execution_count": 13,
     "metadata": {},
     "output_type": "execute_result"
    }
   ],
   "source": [
    "df_result.head()"
   ]
  },
  {
   "cell_type": "code",
   "execution_count": null,
   "metadata": {},
   "outputs": [],
   "source": []
  }
 ],
 "metadata": {
  "kernelspec": {
   "display_name": "Python 3",
   "language": "python",
   "name": "python3"
  },
  "language_info": {
   "codemirror_mode": {
    "name": "ipython",
    "version": 3
   },
   "file_extension": ".py",
   "mimetype": "text/x-python",
   "name": "python",
   "nbconvert_exporter": "python",
   "pygments_lexer": "ipython3",
   "version": "3.6.4"
  }
 },
 "nbformat": 4,
 "nbformat_minor": 2
}
