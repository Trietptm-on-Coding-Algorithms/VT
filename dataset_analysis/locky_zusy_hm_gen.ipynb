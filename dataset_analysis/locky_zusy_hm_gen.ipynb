{
 "cells": [
  {
   "cell_type": "code",
   "execution_count": 1,
   "metadata": {},
   "outputs": [],
   "source": [
    "import pandas as pd"
   ]
  },
  {
   "cell_type": "code",
   "execution_count": null,
   "metadata": {},
   "outputs": [],
   "source": [
    "    "
   ]
  },
  {
   "cell_type": "code",
   "execution_count": 2,
   "metadata": {},
   "outputs": [],
   "source": [
    "import os"
   ]
  },
  {
   "cell_type": "code",
   "execution_count": 17,
   "metadata": {},
   "outputs": [],
   "source": [
    "df1 = pd.read_csv(\"./exe_analysis/malware/output.csv\")"
   ]
  },
  {
   "cell_type": "code",
   "execution_count": 28,
   "metadata": {},
   "outputs": [],
   "source": [
    "import pefile"
   ]
  },
  {
   "cell_type": "code",
   "execution_count": 29,
   "metadata": {},
   "outputs": [],
   "source": [
    "import ssdeep"
   ]
  },
  {
   "cell_type": "code",
   "execution_count": 31,
   "metadata": {},
   "outputs": [],
   "source": [
    "m1 = df1.loc[:,[\"Exe name\", \"Family\", \"ssdeep\"]]"
   ]
  },
  {
   "cell_type": "markdown",
   "metadata": {},
   "source": [
    "m1.head()"
   ]
  },
  {
   "cell_type": "markdown",
   "metadata": {},
   "source": []
  },
  {
   "cell_type": "code",
   "execution_count": 34,
   "metadata": {
    "scrolled": true
   },
   "outputs": [
    {
     "data": {
      "text/html": [
       "<div>\n",
       "<style scoped>\n",
       "    .dataframe tbody tr th:only-of-type {\n",
       "        vertical-align: middle;\n",
       "    }\n",
       "\n",
       "    .dataframe tbody tr th {\n",
       "        vertical-align: top;\n",
       "    }\n",
       "\n",
       "    .dataframe thead th {\n",
       "        text-align: right;\n",
       "    }\n",
       "</style>\n",
       "<table border=\"1\" class=\"dataframe\">\n",
       "  <thead>\n",
       "    <tr style=\"text-align: right;\">\n",
       "      <th></th>\n",
       "      <th>Exe name_x</th>\n",
       "      <th>Family</th>\n",
       "      <th>ssdeep_x</th>\n",
       "      <th>Exe name_y</th>\n",
       "      <th>ssdeep_y</th>\n",
       "    </tr>\n",
       "  </thead>\n",
       "  <tbody>\n",
       "    <tr>\n",
       "      <th>0</th>\n",
       "      <td>92afdb24daeb9f592677f59cd457e649e23ca63f1e6542...</td>\n",
       "      <td>teslacrypt</td>\n",
       "      <td>6144:3qHkrjX5vxU5QZZvH3K++Wv9CN4Jz4sH63BAayKPq...</td>\n",
       "      <td>92afdb24daeb9f592677f59cd457e649e23ca63f1e6542...</td>\n",
       "      <td>6144:3qHkrjX5vxU5QZZvH3K++Wv9CN4Jz4sH63BAayKPq...</td>\n",
       "    </tr>\n",
       "    <tr>\n",
       "      <th>1</th>\n",
       "      <td>92afdb24daeb9f592677f59cd457e649e23ca63f1e6542...</td>\n",
       "      <td>teslacrypt</td>\n",
       "      <td>6144:3qHkrjX5vxU5QZZvH3K++Wv9CN4Jz4sH63BAayKPq...</td>\n",
       "      <td>385d3bb08535d11f65e2927e2c08a03b95559c0f6e260a...</td>\n",
       "      <td>6144:f5RZQR7Xr2JKP5IaW2y5hX4Oc9s+Qw9dJLfV3Nc61...</td>\n",
       "    </tr>\n",
       "    <tr>\n",
       "      <th>2</th>\n",
       "      <td>92afdb24daeb9f592677f59cd457e649e23ca63f1e6542...</td>\n",
       "      <td>teslacrypt</td>\n",
       "      <td>6144:3qHkrjX5vxU5QZZvH3K++Wv9CN4Jz4sH63BAayKPq...</td>\n",
       "      <td>c2c2e331f66ec54eab037c06f5d9fa3c5c08a233419b14...</td>\n",
       "      <td>12288:QeAgFS3l1X9pyQtePcO3JKKDblCJxfS6:Bu1X9De...</td>\n",
       "    </tr>\n",
       "    <tr>\n",
       "      <th>3</th>\n",
       "      <td>92afdb24daeb9f592677f59cd457e649e23ca63f1e6542...</td>\n",
       "      <td>teslacrypt</td>\n",
       "      <td>6144:3qHkrjX5vxU5QZZvH3K++Wv9CN4Jz4sH63BAayKPq...</td>\n",
       "      <td>179c8ec8f48a067084ad55e96c226d3587cada5da368a8...</td>\n",
       "      <td>12288:poVKrSrl8s2VEqCf0xjq73Pjp0cX+ilVU:PrW2G7...</td>\n",
       "    </tr>\n",
       "    <tr>\n",
       "      <th>4</th>\n",
       "      <td>92afdb24daeb9f592677f59cd457e649e23ca63f1e6542...</td>\n",
       "      <td>teslacrypt</td>\n",
       "      <td>6144:3qHkrjX5vxU5QZZvH3K++Wv9CN4Jz4sH63BAayKPq...</td>\n",
       "      <td>d4332aebc11651737926deb502759bb69f3d331a0ef9b2...</td>\n",
       "      <td>6144:zaWVYqfPGyCYvuC7vhtGTmKdIPavzN9dI5Gqo:zaW...</td>\n",
       "    </tr>\n",
       "  </tbody>\n",
       "</table>\n",
       "</div>"
      ],
      "text/plain": [
       "                                          Exe name_x      Family  \\\n",
       "0  92afdb24daeb9f592677f59cd457e649e23ca63f1e6542...  teslacrypt   \n",
       "1  92afdb24daeb9f592677f59cd457e649e23ca63f1e6542...  teslacrypt   \n",
       "2  92afdb24daeb9f592677f59cd457e649e23ca63f1e6542...  teslacrypt   \n",
       "3  92afdb24daeb9f592677f59cd457e649e23ca63f1e6542...  teslacrypt   \n",
       "4  92afdb24daeb9f592677f59cd457e649e23ca63f1e6542...  teslacrypt   \n",
       "\n",
       "                                            ssdeep_x  \\\n",
       "0  6144:3qHkrjX5vxU5QZZvH3K++Wv9CN4Jz4sH63BAayKPq...   \n",
       "1  6144:3qHkrjX5vxU5QZZvH3K++Wv9CN4Jz4sH63BAayKPq...   \n",
       "2  6144:3qHkrjX5vxU5QZZvH3K++Wv9CN4Jz4sH63BAayKPq...   \n",
       "3  6144:3qHkrjX5vxU5QZZvH3K++Wv9CN4Jz4sH63BAayKPq...   \n",
       "4  6144:3qHkrjX5vxU5QZZvH3K++Wv9CN4Jz4sH63BAayKPq...   \n",
       "\n",
       "                                          Exe name_y  \\\n",
       "0  92afdb24daeb9f592677f59cd457e649e23ca63f1e6542...   \n",
       "1  385d3bb08535d11f65e2927e2c08a03b95559c0f6e260a...   \n",
       "2  c2c2e331f66ec54eab037c06f5d9fa3c5c08a233419b14...   \n",
       "3  179c8ec8f48a067084ad55e96c226d3587cada5da368a8...   \n",
       "4  d4332aebc11651737926deb502759bb69f3d331a0ef9b2...   \n",
       "\n",
       "                                            ssdeep_y  \n",
       "0  6144:3qHkrjX5vxU5QZZvH3K++Wv9CN4Jz4sH63BAayKPq...  \n",
       "1  6144:f5RZQR7Xr2JKP5IaW2y5hX4Oc9s+Qw9dJLfV3Nc61...  \n",
       "2  12288:QeAgFS3l1X9pyQtePcO3JKKDblCJxfS6:Bu1X9De...  \n",
       "3  12288:poVKrSrl8s2VEqCf0xjq73Pjp0cX+ilVU:PrW2G7...  \n",
       "4  6144:zaWVYqfPGyCYvuC7vhtGTmKdIPavzN9dI5Gqo:zaW...  "
      ]
     },
     "execution_count": 34,
     "metadata": {},
     "output_type": "execute_result"
    }
   ],
   "source": [
    "cp.head()"
   ]
  },
  {
   "cell_type": "code",
   "execution_count": 55,
   "metadata": {},
   "outputs": [],
   "source": [
    "import re"
   ]
  },
  {
   "cell_type": "code",
   "execution_count": 61,
   "metadata": {},
   "outputs": [],
   "source": [
    "m1['ssdeep'].to_csv(\"to_check.csv\")"
   ]
  },
  {
   "cell_type": "code",
   "execution_count": 73,
   "metadata": {},
   "outputs": [],
   "source": [
    "cp['Similarity'] = cp.apply(lambda x: ssdeep.compare(str(x['ssdeep_x']),str(x['ssdeep_y'])),axis=1)"
   ]
  },
  {
   "cell_type": "code",
   "execution_count": 75,
   "metadata": {},
   "outputs": [],
   "source": [
    "UniqueFamilies = cp.Family.unique()"
   ]
  },
  {
   "cell_type": "code",
   "execution_count": 79,
   "metadata": {},
   "outputs": [],
   "source": [
    "df_dict={el: pd.DataFrame() for el in UniqueFamilies}"
   ]
  },
  {
   "cell_type": "code",
   "execution_count": 80,
   "metadata": {},
   "outputs": [],
   "source": [
    "for family in UniqueFamilies:\n",
    "    df_dict[family] = cp[:][cp.Family == family]"
   ]
  },
  {
   "cell_type": "code",
   "execution_count": 81,
   "metadata": {},
   "outputs": [],
   "source": [
    "locky = df_dict['locky'].pivot(index=\"Exe name_x\", columns=\"Exe name_y\", values=\"Similarity\")"
   ]
  },
  {
   "cell_type": "code",
   "execution_count": 82,
   "metadata": {},
   "outputs": [
    {
     "data": {
      "text/html": [
       "<div>\n",
       "<style scoped>\n",
       "    .dataframe tbody tr th:only-of-type {\n",
       "        vertical-align: middle;\n",
       "    }\n",
       "\n",
       "    .dataframe tbody tr th {\n",
       "        vertical-align: top;\n",
       "    }\n",
       "\n",
       "    .dataframe thead th {\n",
       "        text-align: right;\n",
       "    }\n",
       "</style>\n",
       "<table border=\"1\" class=\"dataframe\">\n",
       "  <thead>\n",
       "    <tr style=\"text-align: right;\">\n",
       "      <th>Exe name_y</th>\n",
       "      <th>0018bc9f3e36c70fd4abf0171a5be8edcedc79b86ab19884438d6560870af59f</th>\n",
       "      <th>0045a8f95a7c6d204b42f003bc4779293ba32abccfbc34bb4c81badbe768d975</th>\n",
       "      <th>00ed72ffa97f75e1f4d1769e25f94614dbf3fe2a468361b3511a7c0b10ba9038</th>\n",
       "      <th>0116ab9e124e84ba324f2560b882491970d0861216b542cb0ba691780ffea4a2</th>\n",
       "      <th>012a23fc7bab2e5f4c3656d0574e70b47add09b2cdbe40dc33e45393bb4180c5</th>\n",
       "      <th>01722a55b090ab9e13cfae2b6ed0d9ed53199f430eabb7572441b94ade623834</th>\n",
       "      <th>017c1050e8ed1dbff0e05d617701ac25264f890b97181041b56d19b14b01229f</th>\n",
       "      <th>029267049e4495414a36adb7383a0602c49285d98e4e261d290171994ca8d3bb</th>\n",
       "      <th>02be6fcee1107b3b0cc6c325203a946362b410bfb9933fd4998897800bf5142f</th>\n",
       "      <th>02cdac1d4c67c3b3b02bb969ac19646d9857d5d511109f12628ba7aba69ce6ca</th>\n",
       "      <th>...</th>\n",
       "      <th>fcfbbde6237b35acae693462da15240d0419802674443de1f38dd49c3193fb64</th>\n",
       "      <th>fd08ed15fbb2536908a0018b68c30f5ae0ba2baa2835d785db922a7178a0639d</th>\n",
       "      <th>fdbbe50061784f2ffa59ce77cdf267a14a0e6fc624d73ca46320e933137d25ee</th>\n",
       "      <th>fdd5325bd1371068d7948d57e640cd01869e5281e1e15eeddafa20448618a89d</th>\n",
       "      <th>fe4188733a8e365dad12dab059a9b18b4b01f119dd37eb906d9f018fe02866b8</th>\n",
       "      <th>fe621e0157e6eccf323a6ab9616277f7bcf437704a1bf5aa889ffae96d2460a9</th>\n",
       "      <th>fe9e7ce46ea6ab100e089d009f1e8eabd874471b7505521150ea29ebeb39a2ae</th>\n",
       "      <th>feeeadabca104f5fad1acafe6b164a485c732c69c5852874784a97d5a761f0b3</th>\n",
       "      <th>ff1ecbe26efaa9fc1935f4e73ababfc1e21a75ba28928499f78b9adf0a01a11c</th>\n",
       "      <th>fff5023f3146fa72fcaa2b9114b182345ec64297aa5aab76937c2c320b7237e2</th>\n",
       "    </tr>\n",
       "    <tr>\n",
       "      <th>Exe name_x</th>\n",
       "      <th></th>\n",
       "      <th></th>\n",
       "      <th></th>\n",
       "      <th></th>\n",
       "      <th></th>\n",
       "      <th></th>\n",
       "      <th></th>\n",
       "      <th></th>\n",
       "      <th></th>\n",
       "      <th></th>\n",
       "      <th></th>\n",
       "      <th></th>\n",
       "      <th></th>\n",
       "      <th></th>\n",
       "      <th></th>\n",
       "      <th></th>\n",
       "      <th></th>\n",
       "      <th></th>\n",
       "      <th></th>\n",
       "      <th></th>\n",
       "      <th></th>\n",
       "    </tr>\n",
       "  </thead>\n",
       "  <tbody>\n",
       "    <tr>\n",
       "      <th>0018bc9f3e36c70fd4abf0171a5be8edcedc79b86ab19884438d6560870af59f</th>\n",
       "      <td>100</td>\n",
       "      <td>0</td>\n",
       "      <td>0</td>\n",
       "      <td>0</td>\n",
       "      <td>0</td>\n",
       "      <td>0</td>\n",
       "      <td>0</td>\n",
       "      <td>0</td>\n",
       "      <td>0</td>\n",
       "      <td>0</td>\n",
       "      <td>...</td>\n",
       "      <td>0</td>\n",
       "      <td>0</td>\n",
       "      <td>0</td>\n",
       "      <td>0</td>\n",
       "      <td>0</td>\n",
       "      <td>0</td>\n",
       "      <td>0</td>\n",
       "      <td>0</td>\n",
       "      <td>0</td>\n",
       "      <td>0</td>\n",
       "    </tr>\n",
       "    <tr>\n",
       "      <th>0045a8f95a7c6d204b42f003bc4779293ba32abccfbc34bb4c81badbe768d975</th>\n",
       "      <td>0</td>\n",
       "      <td>100</td>\n",
       "      <td>0</td>\n",
       "      <td>0</td>\n",
       "      <td>0</td>\n",
       "      <td>0</td>\n",
       "      <td>0</td>\n",
       "      <td>0</td>\n",
       "      <td>0</td>\n",
       "      <td>0</td>\n",
       "      <td>...</td>\n",
       "      <td>0</td>\n",
       "      <td>0</td>\n",
       "      <td>0</td>\n",
       "      <td>0</td>\n",
       "      <td>0</td>\n",
       "      <td>0</td>\n",
       "      <td>0</td>\n",
       "      <td>0</td>\n",
       "      <td>0</td>\n",
       "      <td>0</td>\n",
       "    </tr>\n",
       "    <tr>\n",
       "      <th>00ed72ffa97f75e1f4d1769e25f94614dbf3fe2a468361b3511a7c0b10ba9038</th>\n",
       "      <td>0</td>\n",
       "      <td>0</td>\n",
       "      <td>100</td>\n",
       "      <td>0</td>\n",
       "      <td>0</td>\n",
       "      <td>0</td>\n",
       "      <td>0</td>\n",
       "      <td>0</td>\n",
       "      <td>0</td>\n",
       "      <td>0</td>\n",
       "      <td>...</td>\n",
       "      <td>0</td>\n",
       "      <td>0</td>\n",
       "      <td>0</td>\n",
       "      <td>0</td>\n",
       "      <td>0</td>\n",
       "      <td>0</td>\n",
       "      <td>0</td>\n",
       "      <td>0</td>\n",
       "      <td>0</td>\n",
       "      <td>0</td>\n",
       "    </tr>\n",
       "    <tr>\n",
       "      <th>0116ab9e124e84ba324f2560b882491970d0861216b542cb0ba691780ffea4a2</th>\n",
       "      <td>0</td>\n",
       "      <td>0</td>\n",
       "      <td>0</td>\n",
       "      <td>100</td>\n",
       "      <td>0</td>\n",
       "      <td>0</td>\n",
       "      <td>0</td>\n",
       "      <td>0</td>\n",
       "      <td>0</td>\n",
       "      <td>0</td>\n",
       "      <td>...</td>\n",
       "      <td>0</td>\n",
       "      <td>0</td>\n",
       "      <td>0</td>\n",
       "      <td>0</td>\n",
       "      <td>0</td>\n",
       "      <td>0</td>\n",
       "      <td>0</td>\n",
       "      <td>0</td>\n",
       "      <td>0</td>\n",
       "      <td>0</td>\n",
       "    </tr>\n",
       "    <tr>\n",
       "      <th>012a23fc7bab2e5f4c3656d0574e70b47add09b2cdbe40dc33e45393bb4180c5</th>\n",
       "      <td>0</td>\n",
       "      <td>0</td>\n",
       "      <td>0</td>\n",
       "      <td>0</td>\n",
       "      <td>100</td>\n",
       "      <td>0</td>\n",
       "      <td>0</td>\n",
       "      <td>0</td>\n",
       "      <td>0</td>\n",
       "      <td>0</td>\n",
       "      <td>...</td>\n",
       "      <td>0</td>\n",
       "      <td>0</td>\n",
       "      <td>0</td>\n",
       "      <td>0</td>\n",
       "      <td>0</td>\n",
       "      <td>0</td>\n",
       "      <td>0</td>\n",
       "      <td>0</td>\n",
       "      <td>0</td>\n",
       "      <td>0</td>\n",
       "    </tr>\n",
       "  </tbody>\n",
       "</table>\n",
       "<p>5 rows × 647 columns</p>\n",
       "</div>"
      ],
      "text/plain": [
       "Exe name_y                                          0018bc9f3e36c70fd4abf0171a5be8edcedc79b86ab19884438d6560870af59f  \\\n",
       "Exe name_x                                                                                                             \n",
       "0018bc9f3e36c70fd4abf0171a5be8edcedc79b86ab1988...                                                100                  \n",
       "0045a8f95a7c6d204b42f003bc4779293ba32abccfbc34b...                                                  0                  \n",
       "00ed72ffa97f75e1f4d1769e25f94614dbf3fe2a468361b...                                                  0                  \n",
       "0116ab9e124e84ba324f2560b882491970d0861216b542c...                                                  0                  \n",
       "012a23fc7bab2e5f4c3656d0574e70b47add09b2cdbe40d...                                                  0                  \n",
       "\n",
       "Exe name_y                                          0045a8f95a7c6d204b42f003bc4779293ba32abccfbc34bb4c81badbe768d975  \\\n",
       "Exe name_x                                                                                                             \n",
       "0018bc9f3e36c70fd4abf0171a5be8edcedc79b86ab1988...                                                  0                  \n",
       "0045a8f95a7c6d204b42f003bc4779293ba32abccfbc34b...                                                100                  \n",
       "00ed72ffa97f75e1f4d1769e25f94614dbf3fe2a468361b...                                                  0                  \n",
       "0116ab9e124e84ba324f2560b882491970d0861216b542c...                                                  0                  \n",
       "012a23fc7bab2e5f4c3656d0574e70b47add09b2cdbe40d...                                                  0                  \n",
       "\n",
       "Exe name_y                                          00ed72ffa97f75e1f4d1769e25f94614dbf3fe2a468361b3511a7c0b10ba9038  \\\n",
       "Exe name_x                                                                                                             \n",
       "0018bc9f3e36c70fd4abf0171a5be8edcedc79b86ab1988...                                                  0                  \n",
       "0045a8f95a7c6d204b42f003bc4779293ba32abccfbc34b...                                                  0                  \n",
       "00ed72ffa97f75e1f4d1769e25f94614dbf3fe2a468361b...                                                100                  \n",
       "0116ab9e124e84ba324f2560b882491970d0861216b542c...                                                  0                  \n",
       "012a23fc7bab2e5f4c3656d0574e70b47add09b2cdbe40d...                                                  0                  \n",
       "\n",
       "Exe name_y                                          0116ab9e124e84ba324f2560b882491970d0861216b542cb0ba691780ffea4a2  \\\n",
       "Exe name_x                                                                                                             \n",
       "0018bc9f3e36c70fd4abf0171a5be8edcedc79b86ab1988...                                                  0                  \n",
       "0045a8f95a7c6d204b42f003bc4779293ba32abccfbc34b...                                                  0                  \n",
       "00ed72ffa97f75e1f4d1769e25f94614dbf3fe2a468361b...                                                  0                  \n",
       "0116ab9e124e84ba324f2560b882491970d0861216b542c...                                                100                  \n",
       "012a23fc7bab2e5f4c3656d0574e70b47add09b2cdbe40d...                                                  0                  \n",
       "\n",
       "Exe name_y                                          012a23fc7bab2e5f4c3656d0574e70b47add09b2cdbe40dc33e45393bb4180c5  \\\n",
       "Exe name_x                                                                                                             \n",
       "0018bc9f3e36c70fd4abf0171a5be8edcedc79b86ab1988...                                                  0                  \n",
       "0045a8f95a7c6d204b42f003bc4779293ba32abccfbc34b...                                                  0                  \n",
       "00ed72ffa97f75e1f4d1769e25f94614dbf3fe2a468361b...                                                  0                  \n",
       "0116ab9e124e84ba324f2560b882491970d0861216b542c...                                                  0                  \n",
       "012a23fc7bab2e5f4c3656d0574e70b47add09b2cdbe40d...                                                100                  \n",
       "\n",
       "Exe name_y                                          01722a55b090ab9e13cfae2b6ed0d9ed53199f430eabb7572441b94ade623834  \\\n",
       "Exe name_x                                                                                                             \n",
       "0018bc9f3e36c70fd4abf0171a5be8edcedc79b86ab1988...                                                  0                  \n",
       "0045a8f95a7c6d204b42f003bc4779293ba32abccfbc34b...                                                  0                  \n",
       "00ed72ffa97f75e1f4d1769e25f94614dbf3fe2a468361b...                                                  0                  \n",
       "0116ab9e124e84ba324f2560b882491970d0861216b542c...                                                  0                  \n",
       "012a23fc7bab2e5f4c3656d0574e70b47add09b2cdbe40d...                                                  0                  \n",
       "\n",
       "Exe name_y                                          017c1050e8ed1dbff0e05d617701ac25264f890b97181041b56d19b14b01229f  \\\n",
       "Exe name_x                                                                                                             \n",
       "0018bc9f3e36c70fd4abf0171a5be8edcedc79b86ab1988...                                                  0                  \n",
       "0045a8f95a7c6d204b42f003bc4779293ba32abccfbc34b...                                                  0                  \n",
       "00ed72ffa97f75e1f4d1769e25f94614dbf3fe2a468361b...                                                  0                  \n",
       "0116ab9e124e84ba324f2560b882491970d0861216b542c...                                                  0                  \n",
       "012a23fc7bab2e5f4c3656d0574e70b47add09b2cdbe40d...                                                  0                  \n",
       "\n",
       "Exe name_y                                          029267049e4495414a36adb7383a0602c49285d98e4e261d290171994ca8d3bb  \\\n",
       "Exe name_x                                                                                                             \n",
       "0018bc9f3e36c70fd4abf0171a5be8edcedc79b86ab1988...                                                  0                  \n",
       "0045a8f95a7c6d204b42f003bc4779293ba32abccfbc34b...                                                  0                  \n",
       "00ed72ffa97f75e1f4d1769e25f94614dbf3fe2a468361b...                                                  0                  \n",
       "0116ab9e124e84ba324f2560b882491970d0861216b542c...                                                  0                  \n",
       "012a23fc7bab2e5f4c3656d0574e70b47add09b2cdbe40d...                                                  0                  \n",
       "\n",
       "Exe name_y                                          02be6fcee1107b3b0cc6c325203a946362b410bfb9933fd4998897800bf5142f  \\\n",
       "Exe name_x                                                                                                             \n",
       "0018bc9f3e36c70fd4abf0171a5be8edcedc79b86ab1988...                                                  0                  \n",
       "0045a8f95a7c6d204b42f003bc4779293ba32abccfbc34b...                                                  0                  \n",
       "00ed72ffa97f75e1f4d1769e25f94614dbf3fe2a468361b...                                                  0                  \n",
       "0116ab9e124e84ba324f2560b882491970d0861216b542c...                                                  0                  \n",
       "012a23fc7bab2e5f4c3656d0574e70b47add09b2cdbe40d...                                                  0                  \n",
       "\n",
       "Exe name_y                                          02cdac1d4c67c3b3b02bb969ac19646d9857d5d511109f12628ba7aba69ce6ca  \\\n",
       "Exe name_x                                                                                                             \n",
       "0018bc9f3e36c70fd4abf0171a5be8edcedc79b86ab1988...                                                  0                  \n",
       "0045a8f95a7c6d204b42f003bc4779293ba32abccfbc34b...                                                  0                  \n",
       "00ed72ffa97f75e1f4d1769e25f94614dbf3fe2a468361b...                                                  0                  \n",
       "0116ab9e124e84ba324f2560b882491970d0861216b542c...                                                  0                  \n",
       "012a23fc7bab2e5f4c3656d0574e70b47add09b2cdbe40d...                                                  0                  \n",
       "\n",
       "Exe name_y                                                                        ...                                 \\\n",
       "Exe name_x                                                                        ...                                  \n",
       "0018bc9f3e36c70fd4abf0171a5be8edcedc79b86ab1988...                                ...                                  \n",
       "0045a8f95a7c6d204b42f003bc4779293ba32abccfbc34b...                                ...                                  \n",
       "00ed72ffa97f75e1f4d1769e25f94614dbf3fe2a468361b...                                ...                                  \n",
       "0116ab9e124e84ba324f2560b882491970d0861216b542c...                                ...                                  \n",
       "012a23fc7bab2e5f4c3656d0574e70b47add09b2cdbe40d...                                ...                                  \n",
       "\n",
       "Exe name_y                                          fcfbbde6237b35acae693462da15240d0419802674443de1f38dd49c3193fb64  \\\n",
       "Exe name_x                                                                                                             \n",
       "0018bc9f3e36c70fd4abf0171a5be8edcedc79b86ab1988...                                                  0                  \n",
       "0045a8f95a7c6d204b42f003bc4779293ba32abccfbc34b...                                                  0                  \n",
       "00ed72ffa97f75e1f4d1769e25f94614dbf3fe2a468361b...                                                  0                  \n",
       "0116ab9e124e84ba324f2560b882491970d0861216b542c...                                                  0                  \n",
       "012a23fc7bab2e5f4c3656d0574e70b47add09b2cdbe40d...                                                  0                  \n",
       "\n",
       "Exe name_y                                          fd08ed15fbb2536908a0018b68c30f5ae0ba2baa2835d785db922a7178a0639d  \\\n",
       "Exe name_x                                                                                                             \n",
       "0018bc9f3e36c70fd4abf0171a5be8edcedc79b86ab1988...                                                  0                  \n",
       "0045a8f95a7c6d204b42f003bc4779293ba32abccfbc34b...                                                  0                  \n",
       "00ed72ffa97f75e1f4d1769e25f94614dbf3fe2a468361b...                                                  0                  \n",
       "0116ab9e124e84ba324f2560b882491970d0861216b542c...                                                  0                  \n",
       "012a23fc7bab2e5f4c3656d0574e70b47add09b2cdbe40d...                                                  0                  \n",
       "\n",
       "Exe name_y                                          fdbbe50061784f2ffa59ce77cdf267a14a0e6fc624d73ca46320e933137d25ee  \\\n",
       "Exe name_x                                                                                                             \n",
       "0018bc9f3e36c70fd4abf0171a5be8edcedc79b86ab1988...                                                  0                  \n",
       "0045a8f95a7c6d204b42f003bc4779293ba32abccfbc34b...                                                  0                  \n",
       "00ed72ffa97f75e1f4d1769e25f94614dbf3fe2a468361b...                                                  0                  \n",
       "0116ab9e124e84ba324f2560b882491970d0861216b542c...                                                  0                  \n",
       "012a23fc7bab2e5f4c3656d0574e70b47add09b2cdbe40d...                                                  0                  \n",
       "\n",
       "Exe name_y                                          fdd5325bd1371068d7948d57e640cd01869e5281e1e15eeddafa20448618a89d  \\\n",
       "Exe name_x                                                                                                             \n",
       "0018bc9f3e36c70fd4abf0171a5be8edcedc79b86ab1988...                                                  0                  \n",
       "0045a8f95a7c6d204b42f003bc4779293ba32abccfbc34b...                                                  0                  \n",
       "00ed72ffa97f75e1f4d1769e25f94614dbf3fe2a468361b...                                                  0                  \n",
       "0116ab9e124e84ba324f2560b882491970d0861216b542c...                                                  0                  \n",
       "012a23fc7bab2e5f4c3656d0574e70b47add09b2cdbe40d...                                                  0                  \n",
       "\n",
       "Exe name_y                                          fe4188733a8e365dad12dab059a9b18b4b01f119dd37eb906d9f018fe02866b8  \\\n",
       "Exe name_x                                                                                                             \n",
       "0018bc9f3e36c70fd4abf0171a5be8edcedc79b86ab1988...                                                  0                  \n",
       "0045a8f95a7c6d204b42f003bc4779293ba32abccfbc34b...                                                  0                  \n",
       "00ed72ffa97f75e1f4d1769e25f94614dbf3fe2a468361b...                                                  0                  \n",
       "0116ab9e124e84ba324f2560b882491970d0861216b542c...                                                  0                  \n",
       "012a23fc7bab2e5f4c3656d0574e70b47add09b2cdbe40d...                                                  0                  \n",
       "\n",
       "Exe name_y                                          fe621e0157e6eccf323a6ab9616277f7bcf437704a1bf5aa889ffae96d2460a9  \\\n",
       "Exe name_x                                                                                                             \n",
       "0018bc9f3e36c70fd4abf0171a5be8edcedc79b86ab1988...                                                  0                  \n",
       "0045a8f95a7c6d204b42f003bc4779293ba32abccfbc34b...                                                  0                  \n",
       "00ed72ffa97f75e1f4d1769e25f94614dbf3fe2a468361b...                                                  0                  \n",
       "0116ab9e124e84ba324f2560b882491970d0861216b542c...                                                  0                  \n",
       "012a23fc7bab2e5f4c3656d0574e70b47add09b2cdbe40d...                                                  0                  \n",
       "\n",
       "Exe name_y                                          fe9e7ce46ea6ab100e089d009f1e8eabd874471b7505521150ea29ebeb39a2ae  \\\n",
       "Exe name_x                                                                                                             \n",
       "0018bc9f3e36c70fd4abf0171a5be8edcedc79b86ab1988...                                                  0                  \n",
       "0045a8f95a7c6d204b42f003bc4779293ba32abccfbc34b...                                                  0                  \n",
       "00ed72ffa97f75e1f4d1769e25f94614dbf3fe2a468361b...                                                  0                  \n",
       "0116ab9e124e84ba324f2560b882491970d0861216b542c...                                                  0                  \n",
       "012a23fc7bab2e5f4c3656d0574e70b47add09b2cdbe40d...                                                  0                  \n",
       "\n",
       "Exe name_y                                          feeeadabca104f5fad1acafe6b164a485c732c69c5852874784a97d5a761f0b3  \\\n",
       "Exe name_x                                                                                                             \n",
       "0018bc9f3e36c70fd4abf0171a5be8edcedc79b86ab1988...                                                  0                  \n",
       "0045a8f95a7c6d204b42f003bc4779293ba32abccfbc34b...                                                  0                  \n",
       "00ed72ffa97f75e1f4d1769e25f94614dbf3fe2a468361b...                                                  0                  \n",
       "0116ab9e124e84ba324f2560b882491970d0861216b542c...                                                  0                  \n",
       "012a23fc7bab2e5f4c3656d0574e70b47add09b2cdbe40d...                                                  0                  \n",
       "\n",
       "Exe name_y                                          ff1ecbe26efaa9fc1935f4e73ababfc1e21a75ba28928499f78b9adf0a01a11c  \\\n",
       "Exe name_x                                                                                                             \n",
       "0018bc9f3e36c70fd4abf0171a5be8edcedc79b86ab1988...                                                  0                  \n",
       "0045a8f95a7c6d204b42f003bc4779293ba32abccfbc34b...                                                  0                  \n",
       "00ed72ffa97f75e1f4d1769e25f94614dbf3fe2a468361b...                                                  0                  \n",
       "0116ab9e124e84ba324f2560b882491970d0861216b542c...                                                  0                  \n",
       "012a23fc7bab2e5f4c3656d0574e70b47add09b2cdbe40d...                                                  0                  \n",
       "\n",
       "Exe name_y                                          fff5023f3146fa72fcaa2b9114b182345ec64297aa5aab76937c2c320b7237e2  \n",
       "Exe name_x                                                                                                            \n",
       "0018bc9f3e36c70fd4abf0171a5be8edcedc79b86ab1988...                                                  0                 \n",
       "0045a8f95a7c6d204b42f003bc4779293ba32abccfbc34b...                                                  0                 \n",
       "00ed72ffa97f75e1f4d1769e25f94614dbf3fe2a468361b...                                                  0                 \n",
       "0116ab9e124e84ba324f2560b882491970d0861216b542c...                                                  0                 \n",
       "012a23fc7bab2e5f4c3656d0574e70b47add09b2cdbe40d...                                                  0                 \n",
       "\n",
       "[5 rows x 647 columns]"
      ]
     },
     "execution_count": 82,
     "metadata": {},
     "output_type": "execute_result"
    }
   ],
   "source": [
    "locky.head()"
   ]
  },
  {
   "cell_type": "code",
   "execution_count": 83,
   "metadata": {},
   "outputs": [],
   "source": [
    "import matplotlib.pyplot as plt"
   ]
  },
  {
   "cell_type": "code",
   "execution_count": 86,
   "metadata": {},
   "outputs": [
    {
     "data": {
      "image/png": "[encoded data removed]",
      "text/plain": [
       "<matplotlib.figure.Figure at 0x7eff0be17890>"
      ]
     },
     "metadata": {},
     "output_type": "display_data"
    }
   ],
   "source": [
    "ax = plt.pcolor(locky)"
   ]
  },
  {
   "cell_type": "code",
   "execution_count": 87,
   "metadata": {},
   "outputs": [],
   "source": [
    "fig = ax.get_figure()"
   ]
  },
  {
   "cell_type": "code",
   "execution_count": 88,
   "metadata": {},
   "outputs": [],
   "source": [
    "fig.savefig(\"locky_heatmap\")"
   ]
  },
  {
   "cell_type": "code",
   "execution_count": 89,
   "metadata": {},
   "outputs": [],
   "source": [
    "locky.to_csv(\"locky_heatmap.csv\")"
   ]
  },
  {
   "cell_type": "code",
   "execution_count": 90,
   "metadata": {},
   "outputs": [],
   "source": [
    "zusy = df_dict['zusy'].pivot(index= \"Exe name_x\", columns= \"Exe name_y\", values=\"Similarity\")"
   ]
  },
  {
   "cell_type": "code",
   "execution_count": 91,
   "metadata": {},
   "outputs": [
    {
     "data": {
      "image/png": "[encoded data removed]",
      "text/plain": [
       "<matplotlib.figure.Figure at 0x7eff6c536290>"
      ]
     },
     "metadata": {},
     "output_type": "display_data"
    }
   ],
   "source": [
    "ay = plt.pcolor(zusy)"
   ]
  },
  {
   "cell_type": "code",
   "execution_count": 92,
   "metadata": {},
   "outputs": [],
   "source": [
    "fig_zusy= ay.get_figure()"
   ]
  },
  {
   "cell_type": "code",
   "execution_count": 93,
   "metadata": {},
   "outputs": [],
   "source": [
    "fig_zusy.savefig(\"zusy_heatmap\")"
   ]
  },
  {
   "cell_type": "code",
   "execution_count": 94,
   "metadata": {},
   "outputs": [],
   "source": [
    "zusy.to_csv(\"zusy_heatmap.csv\")"
   ]
  },
  {
   "cell_type": "code",
   "execution_count": null,
   "metadata": {},
   "outputs": [],
   "source": []
  }
 ],
 "metadata": {
  "kernelspec": {
   "display_name": "Python 3",
   "language": "python",
   "name": "python3"
  },
  "language_info": {
   "codemirror_mode": {
    "name": "ipython",
    "version": 2
   },
   "file_extension": ".py",
   "mimetype": "text/x-python",
   "name": "python",
   "nbconvert_exporter": "python",
   "pygments_lexer": "ipython2",
   "version": "2.7.14"
  }
 },
 "nbformat": 4,
 "nbformat_minor": 2
}
