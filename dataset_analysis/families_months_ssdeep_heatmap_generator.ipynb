{
 "cells": [
  {
   "cell_type": "code",
   "execution_count": 24,
   "metadata": {},
   "outputs": [],
   "source": [
    "import pandas as pd\n",
    "\n",
    "import os\n",
    "\n",
    "\n",
    "path = \"./dll_analysis/malware\"\n",
    "filename = \"fixed_rules.csv\"\n",
    "file_to_scan = os.path.join(path,filename)\n",
    "df1 = pd.read_csv(file_to_scan)\n",
    "\n",
    "temp_families = open(path+\"/most_frequent_families.csv\", \"r\").readlines()"
   ]
  },
  {
   "cell_type": "code",
   "execution_count": 26,
   "metadata": {},
   "outputs": [
    {
     "name": "stdout",
     "output_type": "stream",
     "text": [
      "['1,epack\\n', '2,locky\\n', '3,razy\\n', '4,zusy\\n', '6,agentb\\n', '7,locky\\n', '8,midie\\n', '9,ranserkd\\n', '10,razy\\n', '11,waldek\\n', '12,locky\\n', '13,locky\\n']\n",
      "set(['razy', 'locky', 'agentb', 'midie', 'epack', 'ranserkd', 'waldek', 'zusy'])\n"
     ]
    }
   ],
   "source": [
    "print(temp_families)\n",
    "most_frequent_families = set()\n",
    "\"\"\"NOTE: check the format when moving to EXE. This was for DLL only.\"\"\"\n",
    "for i in range(len(temp_families)):\n",
    "    #if(i==0):\n",
    "        #continue\n",
    "    most_frequent_families.add(temp_families[i].strip('\\n').split(\",\")[1])\n",
    "\"\"\" For EXEs, or, in general, for any file as a list of families one per line:\n",
    "\n",
    "for i in range(len(temp_families)):\n",
    "    most_frequent_families.append(temp_families[i].strip('\\n'))\n",
    "\"\"\"\n",
    "print(most_frequent_families)"
   ]
  },
  {
   "cell_type": "code",
   "execution_count": 27,
   "metadata": {},
   "outputs": [],
   "source": [
    "import pefile\n",
    "import ssdeep\n",
    "\n",
    "m1 = df1.loc[:,[\"Exe name\", \"Family\", \"first_seen\", \"ssdeep\"]]\n",
    "m1[\"first_seen:month\"] = pd.to_datetime(m1[\"first_seen\"]).dt.to_period(\"M\")"
   ]
  },
  {
   "cell_type": "code",
   "execution_count": 28,
   "metadata": {},
   "outputs": [],
   "source": [
    "del m1[\"first_seen\"]"
   ]
  },
  {
   "cell_type": "code",
   "execution_count": 29,
   "metadata": {},
   "outputs": [],
   "source": [
    "m1.head()\n",
    "m1 = m1.dropna()"
   ]
  },
  {
   "cell_type": "code",
   "execution_count": 30,
   "metadata": {},
   "outputs": [],
   "source": [
    "df_dict={el: pd.DataFrame() for el in most_frequent_families}"
   ]
  },
  {
   "cell_type": "code",
   "execution_count": 31,
   "metadata": {},
   "outputs": [
    {
     "name": "stdout",
     "output_type": "stream",
     "text": [
      "razy\n",
      "(25, 4)\n",
      "(6, 4)\n",
      "locky\n",
      "(275, 4)\n",
      "(653, 4)\n",
      "agentb\n",
      "midie\n",
      "epack\n",
      "ranserkd\n",
      "(12, 4)\n",
      "waldek\n",
      "zusy\n"
     ]
    }
   ],
   "source": [
    "import ssdeep\n",
    "for family in most_frequent_families:\n",
    "    print(family)\n",
    "    mf = m1[:][m1.Family == family]\n",
    "    most_frequent_months = mf.groupby(mf[\"first_seen:month\"]).size().reset_index(name=\"count\")\n",
    "    \n",
    "    most_frequent_months = most_frequent_months[most_frequent_months[\"count\"]>5][\"first_seen:month\"]\n",
    "    df_month ={ el: pd.DataFrame() for el in most_frequent_months.values}\n",
    "    for month in most_frequent_months.values:\n",
    "        mm = mf[:][mf[\"first_seen:month\"]==month]\n",
    "        print(mm.shape)\n",
    "        cp = mm.merge(mm, how = 'outer', on = \"Family\")\n",
    "        \"\"\" Performing cartesian product of the dataset with itself\n",
    "    ( it will be useful to use the apply function over the same row of the dataframe).\n",
    "    Each row will now contain two samples of the same family \n",
    "    (too complex and, probably, useless to perform it over all the samples, independently on the family)\"\"\"\n",
    "        cp[\"Similarity\"] = cp.apply(lambda x: ssdeep.compare(str(x[\"ssdeep_x\"]),str(x[\"ssdeep_y\"])), axis=1)\n",
    "        df_month[month] = cp\n",
    "        #print(cp)\n",
    "    df_dict[family] = df_month\n"
   ]
  },
  {
   "cell_type": "code",
   "execution_count": 32,
   "metadata": {},
   "outputs": [],
   "source": [
    "import os\n",
    "os.mkdir(path+\"/heatmap/ssdeep/monthly_analysis\")"
   ]
  },
  {
   "cell_type": "code",
   "execution_count": 33,
   "metadata": {
    "scrolled": true
   },
   "outputs": [
    {
     "name": "stdout",
     "output_type": "stream",
     "text": [
      "('razy', Period('2016-11', 'M'))\n",
      "('razy', Period('2016-10', 'M'))\n",
      "('locky', Period('2016-11', 'M'))\n",
      "('locky', Period('2016-10', 'M'))\n",
      "('ranserkd', Period('2016-11', 'M'))\n"
     ]
    },
    {
     "data": {
      "text/plain": [
       "<matplotlib.figure.Figure at 0x7ff80ed60990>"
      ]
     },
     "metadata": {},
     "output_type": "display_data"
    }
   ],
   "source": [
    "import matplotlib.pyplot as plt\n",
    "import gc\n",
    "\n",
    "for family in most_frequent_families:\n",
    "    os.mkdir(path+\"/heatmap/ssdeep/monthly_analysis/\"+family)\n",
    "    for month, df_month in df_dict[family].items():\n",
    "        print(family, month)\n",
    "        df_month = df_month.pivot(index= \"Exe name_x\", columns=\"Exe name_y\", values=\"Similarity\")\n",
    "        ax = plt.pcolor(df_month)\n",
    "        ax.get_figure().savefig(path+\"/heatmap/ssdeep/monthly_analysis/\"+family+\"/\"+str(month)+\"_heatmap\", dpi=600)\n",
    "        plt.clf()\n",
    "        del ax\n",
    "        gc.collect()\n",
    "        df_month.to_csv(path+\"/heatmap/ssdeep/monthly_analysis/\"+family+\"/\"+str(month)+\"_heatmap.csv\")"
   ]
  },
  {
   "cell_type": "code",
   "execution_count": 23,
   "metadata": {},
   "outputs": [
    {
     "name": "stdout",
     "output_type": "stream",
     "text": [
      "./exe_analysis/malware\n"
     ]
    }
   ],
   "source": [
    "print(path)"
   ]
  },
  {
   "cell_type": "code",
   "execution_count": null,
   "metadata": {},
   "outputs": [],
   "source": []
  }
 ],
 "metadata": {
  "kernelspec": {
   "display_name": "Python 3",
   "language": "python",
   "name": "python3"
  },
  "language_info": {
   "codemirror_mode": {
    "name": "ipython",
    "version": 2
   },
   "file_extension": ".py",
   "mimetype": "text/x-python",
   "name": "python",
   "nbconvert_exporter": "python",
   "pygments_lexer": "ipython2",
   "version": "2.7.14"
  }
 },
 "nbformat": 4,
 "nbformat_minor": 2
}
