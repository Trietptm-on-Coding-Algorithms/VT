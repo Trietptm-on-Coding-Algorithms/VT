{
 "cells": [
  {
   "cell_type": "code",
   "execution_count": 1,
   "metadata": {},
   "outputs": [],
   "source": [
    "import pandas as pd\n",
    "\n",
    "import os\n",
    "\n",
    "\n",
    "path = \"./dll_analysis/malware\"\n",
    "filename = \"fixed_rules.csv\"\n",
    "file_to_scan = os.path.join(path,filename)\n",
    "df1 = pd.read_csv(file_to_scan)\n",
    "\n",
    "temp_families = open(path+\"/most_frequent_families.csv\", \"r\").readlines()"
   ]
  },
  {
   "cell_type": "code",
   "execution_count": 11,
   "metadata": {},
   "outputs": [
    {
     "name": "stdout",
     "output_type": "stream",
     "text": [
      "[',first_seen:month,Family,count\\n', '1,2016-10,epack,2\\n', '2,2016-10,locky,275\\n', '3,2016-10,razy,25\\n', '4,2016-10,zusy,2\\n', '6,2016-11,agentb,4\\n', '7,2016-11,locky,655\\n', '8,2016-11,midie,5\\n', '9,2016-11,ranserkd,12\\n', '10,2016-11,razy,6\\n', '11,2016-11,waldek,5\\n', '12,2016-12,locky,2\\n', '13,2017-01,locky,1\\n']\n",
      "set(['razy', 'locky', 'agentb', 'midie', 'epack', 'ranserkd', 'waldek', 'zusy'])\n"
     ]
    }
   ],
   "source": [
    "print(temp_families)\n",
    "most_frequent_families = set()\n",
    "\"\"\"NOTE: check the format when moving to EXE. This was for DLL only.\"\"\"\n",
    "for i in range(len(temp_families)):\n",
    "    if(i==0):\n",
    "        continue\n",
    "    most_frequent_families.add(temp_families[i].strip('\\n').split(\",\")[2])\n",
    "\"\"\" For EXEs, or, in general, for any file as a list of families one per line:\n",
    "\n",
    "for i in range(len(temp_families)):\n",
    "    most_frequent_families.append(temp_families[i].strip('\\n'))\n",
    "\"\"\"\n",
    "print(most_frequent_families)"
   ]
  },
  {
   "cell_type": "code",
   "execution_count": 12,
   "metadata": {},
   "outputs": [],
   "source": [
    "import pefile\n",
    "import ssdeep\n",
    "\n",
    "m1 = df1.loc[:,[\"Exe name\", \"Family\", \"first_seen\", \"imphash\"]]\n",
    "m1[\"first_seen:month\"] = pd.to_datetime(m1[\"first_seen\"]).dt.to_period(\"M\")"
   ]
  },
  {
   "cell_type": "code",
   "execution_count": 13,
   "metadata": {},
   "outputs": [],
   "source": [
    "del m1[\"first_seen\"]"
   ]
  },
  {
   "cell_type": "code",
   "execution_count": 14,
   "metadata": {},
   "outputs": [
    {
     "data": {
      "text/html": [
       "<div>\n",
       "<style scoped>\n",
       "    .dataframe tbody tr th:only-of-type {\n",
       "        vertical-align: middle;\n",
       "    }\n",
       "\n",
       "    .dataframe tbody tr th {\n",
       "        vertical-align: top;\n",
       "    }\n",
       "\n",
       "    .dataframe thead th {\n",
       "        text-align: right;\n",
       "    }\n",
       "</style>\n",
       "<table border=\"1\" class=\"dataframe\">\n",
       "  <thead>\n",
       "    <tr style=\"text-align: right;\">\n",
       "      <th></th>\n",
       "      <th>Exe name</th>\n",
       "      <th>Family</th>\n",
       "      <th>imphash</th>\n",
       "      <th>first_seen:month</th>\n",
       "    </tr>\n",
       "  </thead>\n",
       "  <tbody>\n",
       "    <tr>\n",
       "      <th>0</th>\n",
       "      <td>05c0f641bc943f8c1b6c1eddafebc2ee107676b3b2c57a...</td>\n",
       "      <td>locky</td>\n",
       "      <td>cba475024652ed6788f8d77ae1a30155</td>\n",
       "      <td>2016-11</td>\n",
       "    </tr>\n",
       "    <tr>\n",
       "      <th>1</th>\n",
       "      <td>1524b86c0e00ac5b93af3db19265a79ec269ef67573802...</td>\n",
       "      <td>locky</td>\n",
       "      <td>a23d5ed45b5bb2d45988b4d790bb2fb7</td>\n",
       "      <td>2016-10</td>\n",
       "    </tr>\n",
       "    <tr>\n",
       "      <th>2</th>\n",
       "      <td>d82b557fc694192fd928fbf916a979c0838eec6d42f334...</td>\n",
       "      <td>razy</td>\n",
       "      <td>3736395e43e13030dde5ba3bc3da56d5</td>\n",
       "      <td>2016-11</td>\n",
       "    </tr>\n",
       "    <tr>\n",
       "      <th>3</th>\n",
       "      <td>33fbae9c05b6e46aa3360bd20d2f39216b91b6c167595a...</td>\n",
       "      <td>locky</td>\n",
       "      <td>3736395e43e13030dde5ba3bc3da56d5</td>\n",
       "      <td>2016-11</td>\n",
       "    </tr>\n",
       "    <tr>\n",
       "      <th>4</th>\n",
       "      <td>58114b0f4eb890f498b96eed084c2f341f711dbf9fc941...</td>\n",
       "      <td>locky</td>\n",
       "      <td>9cd36be5889827aef4f69402aa78a2ba</td>\n",
       "      <td>2016-11</td>\n",
       "    </tr>\n",
       "  </tbody>\n",
       "</table>\n",
       "</div>"
      ],
      "text/plain": [
       "                                            Exe name Family  \\\n",
       "0  05c0f641bc943f8c1b6c1eddafebc2ee107676b3b2c57a...  locky   \n",
       "1  1524b86c0e00ac5b93af3db19265a79ec269ef67573802...  locky   \n",
       "2  d82b557fc694192fd928fbf916a979c0838eec6d42f334...   razy   \n",
       "3  33fbae9c05b6e46aa3360bd20d2f39216b91b6c167595a...  locky   \n",
       "4  58114b0f4eb890f498b96eed084c2f341f711dbf9fc941...  locky   \n",
       "\n",
       "                            imphash first_seen:month  \n",
       "0  cba475024652ed6788f8d77ae1a30155          2016-11  \n",
       "1  a23d5ed45b5bb2d45988b4d790bb2fb7          2016-10  \n",
       "2  3736395e43e13030dde5ba3bc3da56d5          2016-11  \n",
       "3  3736395e43e13030dde5ba3bc3da56d5          2016-11  \n",
       "4  9cd36be5889827aef4f69402aa78a2ba          2016-11  "
      ]
     },
     "execution_count": 14,
     "metadata": {},
     "output_type": "execute_result"
    }
   ],
   "source": [
    "m1.head()"
   ]
  },
  {
   "cell_type": "code",
   "execution_count": 15,
   "metadata": {},
   "outputs": [],
   "source": [
    "df_dict={el: pd.DataFrame() for el in most_frequent_families}"
   ]
  },
  {
   "cell_type": "code",
   "execution_count": 22,
   "metadata": {},
   "outputs": [
    {
     "name": "stdout",
     "output_type": "stream",
     "text": [
      "razy\n",
      "(25, 4)\n",
      "(6, 4)\n",
      "locky\n",
      "(275, 4)\n",
      "(655, 4)\n",
      "agentb\n",
      "midie\n",
      "epack\n",
      "ranserkd\n",
      "(12, 4)\n",
      "waldek\n",
      "zusy\n"
     ]
    }
   ],
   "source": [
    "import ssdeep\n",
    "for family in most_frequent_families:\n",
    "    print(family)\n",
    "    mf = m1[:][m1.Family == family]\n",
    "    most_frequent_months = mf.groupby(mf[\"first_seen:month\"]).size().reset_index(name=\"count\")\n",
    "    \n",
    "    most_frequent_months = most_frequent_months[most_frequent_months[\"count\"]>5][\"first_seen:month\"]\n",
    "    df_month ={ el: pd.DataFrame() for el in most_frequent_months.values}\n",
    "    for month in most_frequent_months.values:\n",
    "        mm = mf[:][mf[\"first_seen:month\"]==month]\n",
    "        print(mm.shape)\n",
    "        cp = mm.merge(mm, how = 'outer', on = \"Family\")\n",
    "        \"\"\" Performing cartesian product of the dataset with itself\n",
    "    ( it will be useful to use the apply function over the same row of the dataframe).\n",
    "    Each row will now contain two samples of the same family \n",
    "    (too complex and, probably, useless to perform it over all the samples, independently on the family)\"\"\"\n",
    "        cp[\"IAT equality\"] = cp.apply(lambda x: int(x[\"imphash_x\"]==x[\"imphash_y\"]), axis=1)\n",
    "        df_month[month] = cp\n",
    "        #print(cp)\n",
    "    df_dict[family] = df_month\n"
   ]
  },
  {
   "cell_type": "code",
   "execution_count": 17,
   "metadata": {},
   "outputs": [],
   "source": [
    "import os\n",
    "os.mkdir(path+\"/heatmap/iat_heatmap/monthly_analysis\")"
   ]
  },
  {
   "cell_type": "code",
   "execution_count": 26,
   "metadata": {
    "scrolled": false
   },
   "outputs": [
    {
     "name": "stdout",
     "output_type": "stream",
     "text": [
      "('razy', Period('2016-11', 'M'))\n",
      "('razy', Period('2016-10', 'M'))\n",
      "('locky', Period('2016-11', 'M'))\n",
      "('locky', Period('2016-10', 'M'))\n",
      "('ranserkd', Period('2016-11', 'M'))\n"
     ]
    },
    {
     "data": {
      "text/plain": [
       "<matplotlib.figure.Figure at 0x7fe3abc2e710>"
      ]
     },
     "metadata": {},
     "output_type": "display_data"
    }
   ],
   "source": [
    "import matplotlib.pyplot as plt\n",
    "for family in most_frequent_families:\n",
    "    os.mkdir(path+\"/heatmap/iat_heatmap/monthly_analysis/\"+family)\n",
    "    for month, df_month in df_dict[family].items():\n",
    "        print(family, month)\n",
    "        df_month = df_month.pivot(index= \"Exe name_x\", columns=\"Exe name_y\", values=\"IAT equality\")\n",
    "        ax = plt.pcolor(df_month)\n",
    "        ax.get_figure().savefig(path+\"/heatmap/iat_heatmap/monthly_analysis/\"+family+\"/\"+str(month)+\"_heatmap\", dpi=800)\n",
    "        plt.clf()\n",
    "        df_month.to_csv(path+\"/heatmap/iat_heatmap/monthly_analysis/\"+family+\"/\"+str(month)+\"_heatmap.csv\")"
   ]
  },
  {
   "cell_type": "code",
   "execution_count": 19,
   "metadata": {},
   "outputs": [
    {
     "name": "stdout",
     "output_type": "stream",
     "text": [
      "./dll_analysis/malware\n"
     ]
    }
   ],
   "source": [
    "print(path)"
   ]
  },
  {
   "cell_type": "code",
   "execution_count": null,
   "metadata": {},
   "outputs": [],
   "source": []
  }
 ],
 "metadata": {
  "kernelspec": {
   "display_name": "Python 3",
   "language": "python",
   "name": "python3"
  },
  "language_info": {
   "codemirror_mode": {
    "name": "ipython",
    "version": 2
   },
   "file_extension": ".py",
   "mimetype": "text/x-python",
   "name": "python",
   "nbconvert_exporter": "python",
   "pygments_lexer": "ipython2",
   "version": "2.7.14"
  }
 },
 "nbformat": 4,
 "nbformat_minor": 2
}
